{
 "cells": [
  {
   "cell_type": "markdown",
   "metadata": {},
   "source": [
    "## Ajuste de um perfil $\\beta$ modificado"
   ]
  },
  {
   "cell_type": "markdown",
   "metadata": {},
   "source": [
    "O perfil $\\beta$ clássico não ajusta bem perfis com forte emissão no centro, como por exemplo, aglomerados de núcleo frio.\n",
    "Nesse sentido Vikhlinin et al. 2006 propôs esse perfil para ajustar aglomerados com núcleo \"cusp\" e também propôs um perfil com uma queda mais ingreme para altos valores de $r$"
   ]
  },
  {
   "cell_type": "markdown",
   "metadata": {},
   "source": [
    "\\begin{equation}\n",
    "    n_{p}n_{e} (r) = \\frac{n_{0}^{2}}{(1+(r/r_{c})^{2})^{3\\beta}} \\frac{(r/r_{c})^{-\\alpha}}{(1+(r/r_{c})^{2})^{-\\alpha/2}} \\frac{1}{(1+(r/r_{s})^{\\gamma})^{\\frac{\\epsilon}{\\gamma}}}\n",
    "\\end{equation}"
   ]
  },
  {
   "cell_type": "markdown",
   "metadata": {},
   "source": [
    "Ou seja, esse novo perfil tem quatro parâmetros $(\\alpha,\\epsilon,\\gamma,r_{s})$ adicionais em relação ao modelo $\\beta$ clássico que tem apenas 3 $(n_{0},\\beta,r_{c})$."
   ]
  },
  {
   "cell_type": "markdown",
   "metadata": {
    "collapsed": true
   },
   "source": [
    "## Ajuste aos dados observacionais"
   ]
  },
  {
   "cell_type": "markdown",
   "metadata": {},
   "source": [
    "A emissividade bremsstrahlung livre-livre é porporcional ao produto da densidade e a raíz quadrada da temperatura"
   ]
  },
  {
   "cell_type": "markdown",
   "metadata": {},
   "source": [
    "\\begin{equation}\n",
    "     \\epsilon^{ff} \\propto n_{p}n_{e} \\sqrt{T} \\quad [erg \\; s^{-1}{cm^{-3}}]\n",
    "\\end{equation}"
   ]
  },
  {
   "cell_type": "markdown",
   "metadata": {},
   "source": [
    "Por outro lado, o que é extraído da observação é o brilho supercial projetado em raios-X ($SB^{\\prime}$)  em unidades de contagens por segundos por unidade de área. "
   ]
  },
  {
   "cell_type": "markdown",
   "metadata": {},
   "source": [
    "\\begin{equation}\n",
    "SB(R) = A(R) \\times SB^{\\prime}(R)\\\\\n",
    "    SB(R) = \\int \\epsilon^{ff} d\\mathit{l} = \\int^{\\infty}_{R}  \\epsilon^{ff} \\frac{dr^{2}}{\\sqrt{r^{2}-R^{2}}}\n",
    "\\end{equation}"
   ]
  },
  {
   "cell_type": "markdown",
   "metadata": {},
   "source": [
    "Lembrando que $SB^{\\prime}$ é obtido por anéis concêntricos. Para mais informações veja: http://cxc.harvard.edu/ciao/threads/radial_profile."
   ]
  },
  {
   "cell_type": "markdown",
   "metadata": {},
   "source": [
    "Onde $A(R)$ é o fator de conversão de taxa de contagens por unidade de área para fluxo. Sendo que $\\epsilon^{ff}$ projetado na linha de visada é o brilho superficial."
   ]
  },
  {
   "cell_type": "markdown",
   "metadata": {},
   "source": [
    "\\begin{equation}\n",
    "    SB(R) = \\int \\epsilon^{ff} d\\mathit{l} = \\int  n_{p}n_{e} \\sqrt{T}  d\\mathit{l}\n",
    "\\end{equation}"
   ]
  },
  {
   "cell_type": "markdown",
   "metadata": {},
   "source": [
    "Integrando em anéis infinitesimais onde a temperatura não vária consideravelmente, podemos escrever a equação acima como sendo:"
   ]
  },
  {
   "cell_type": "markdown",
   "metadata": {},
   "source": [
    "\\begin{equation}\n",
    "    \\frac{SB_{i}}{\\sqrt{T_{i}}} = \\int^{l_{i+1}}_{l_{i}}  n_{p}n_{e}   d\\mathit{l}\n",
    "\\end{equation}"
   ]
  },
  {
   "cell_type": "markdown",
   "metadata": {},
   "source": [
    "A equação acima que será utilizada para se obter o melhor ajuste. "
   ]
  },
  {
   "cell_type": "markdown",
   "metadata": {},
   "source": [
    "O fator de conversão é obtido ajustando um espectro para cada anel da imagem. Como o número de contagens é pequeno, fixa-se a temperatura e a metalicidade. Porém, a temperatura varia com raio, então assumimos o perfil de temperatura (Vikhlinin et al. 2006)"
   ]
  },
  {
   "cell_type": "markdown",
   "metadata": {},
   "source": [
    "\\begin{equation}\n",
    "    T(r) = (1.11 T_{spec}) \\times 1.35 \\frac{(x/0.045)^{1.9}+0.45}{(x/0.045)^{1.9}+1} \\frac{1}{1+(x/0.6)^{2}}\n",
    "\\end{equation}"
   ]
  },
  {
   "cell_type": "markdown",
   "metadata": {},
   "source": [
    "Onde $x=r/r_{500}$ e $T_{spec}$ é a temperatura obtida pelo o ajuste espectral."
   ]
  },
  {
   "cell_type": "markdown",
   "metadata": {},
   "source": [
    "#### Extração do brilho superficial"
   ]
  },
  {
   "cell_type": "markdown",
   "metadata": {},
   "source": [
    "A extração é feita partir de uma imagem corrigida por mapa de exposição no intervalo de energia entre 0.7 e 2 keV, sem as fontes pontuais, também é necessário uma imagem do background. Para realizar a extração é necessário definir anéis concêntricos. "
   ]
  },
  {
   "cell_type": "markdown",
   "metadata": {},
   "source": [
    "#### MCMC"
   ]
  },
  {
   "cell_type": "code",
   "execution_count": 70,
   "metadata": {
    "collapsed": true
   },
   "outputs": [],
   "source": [
    "from scipy.integrate import qaud\n",
    "import numpy as np\n",
    "from sherpa.astro.ui import *\n",
    "from sherpa.models import*\n",
    "from beta1d_mod import*\n",
    "import emcee"
   ]
  },
  {
   "cell_type": "code",
   "execution_count": 54,
   "metadata": {
    "collapsed": true
   },
   "outputs": [],
   "source": [
    "def integral(pars,r):\n",
    "    (r,rc,rs,a,b,e,g,n0) = pars\n",
    "    old_settings = np.seterr(all='warn')  #seterr to known value\n",
    "    beta=(n0**2)*((r/rc)**(-a))/( (1+(r/rc)**(2))**(3*b-a/2) )\n",
    "    res1 = beta/( 1+(r/rs)**(g) )**(e/g)\n",
    "    res = 2*res1*r/(r*r-R*R)**(1/2)\n",
    "    return res\n",
    "\n",
    "def Eprojected(pars,x):\n",
    "    (rc,rs,a,b,e,g,n0) = pars\n",
    "    n = len(x)\n",
    "    out = []\n",
    "    for i in range(n):\n",
    "        res = x[i]\n",
    "        print(rc,rs,a,b,e,g,n0,res)\n",
    "        aux=quad(integral,x,1e6,args=(rc,rs,a,b,e,g,n0,res))\n",
    "        out.append(aux[0])\n",
    "    return np.array(out)\n"
   ]
  },
  {
   "cell_type": "code",
   "execution_count": 112,
   "metadata": {},
   "outputs": [],
   "source": [
    "# Definindo funções\n",
    "def betamod(r,rc,rs,a,b,e,n0):\n",
    "    g=3\n",
    "    old_settings = np.seterr(all='warn')  #seterr to known value\n",
    "    beta=(n0**2)*((r/rc)**(-a))/( (1+(r/rc)**(2))**(3*b-a/2) )\n",
    "    res = beta/( 1+(r/rs)**(g) )**(e/g)\n",
    "    return res\n",
    "\n",
    "def integral(r,R,rc,rs,a,b,e,n0):\n",
    "    old_settings = np.seterr(all='warn')  #seterr to known value\n",
    "    res = 2*betamod(r,rc,rs,a,b,e,n0)*r/(r*r-R*R)**(1/2)\n",
    "    return res\n",
    "\n",
    "def Eprojected(pars,x):\n",
    "    out = []\n",
    "    for i in range(len(x)):\n",
    "        R = x[i]\n",
    "        aux=quad(integral,R,np.inf,args=(R,pars[0],pars[1],pars[2],pars[3],pars[4],pars[5]),epsabs=1e-10)\n",
    "        res=aux[0]\n",
    "        out.append(res)\n",
    "    return np.array([out])\n",
    "\n",
    "SBV = np.vectorize(Eprojected, otypes=[np.float])"
   ]
  },
  {
   "cell_type": "code",
   "execution_count": 113,
   "metadata": {},
   "outputs": [
    {
     "data": {
      "text/plain": [
       "array([[  4.62867006e+01,   4.22800957e+01,   3.84248945e+01,\n",
       "          3.47395560e+01,   3.12403596e+01,   2.79409785e+01,\n",
       "          2.48521380e+01,   2.19813765e+01,   1.93329241e+01,\n",
       "          1.69077044e+01,   1.47034576e+01,   1.27149749e+01,\n",
       "          1.09344264e+01,   9.35176094e+00,   7.95515244e+00,\n",
       "          6.73146503e+00,   5.66671396e+00,   4.74649939e+00,\n",
       "          3.95639664e+00,   3.28229058e+00,   2.71064775e+00,\n",
       "          2.22872439e+00,   1.82471242e+00,   1.48782893e+00,\n",
       "          1.20835654e+00,   9.77642890e-01,   7.88068380e-01,\n",
       "          6.32990240e-01,   5.06670691e-01,   4.04195632e-01,\n",
       "          3.21389196e-01,   2.54728311e-01,   2.01260314e-01,\n",
       "          1.58525713e-01,   1.24487402e-01,   9.74669784e-02,\n",
       "          7.60883515e-02,   5.92284719e-02,   4.59747782e-02,\n",
       "          3.55888121e-02,   2.74753778e-02,   2.11566025e-02,\n",
       "          1.62502626e-02,   1.24517829e-02,   9.51936459e-03,\n",
       "          7.26175759e-03,   5.52825190e-03,   4.20052027e-03,\n",
       "          3.18599794e-03,   2.41253238e-03]])"
      ]
     },
     "execution_count": 113,
     "metadata": {},
     "output_type": "execute_result"
    }
   ],
   "source": [
    "par0 = 80,400,0.5,1.0,1.0,1\n",
    "para = np.array(par0)\n",
    "Eprojected(para,x)"
   ]
  },
  {
   "cell_type": "code",
   "execution_count": 55,
   "metadata": {},
   "outputs": [
    {
     "name": "stdout",
     "output_type": "stream",
     "text": [
      "80 400 0.5 1.0 1.0 3.0 0.0210105 53.8125\n"
     ]
    },
    {
     "ename": "ValueError",
     "evalue": "The truth value of an array with more than one element is ambiguous. Use a.any() or a.all()",
     "output_type": "error",
     "traceback": [
      "\u001b[0;31m---------------------------------------------------------------------------\u001b[0m",
      "\u001b[0;31mValueError\u001b[0m                                Traceback (most recent call last)",
      "\u001b[0;32m<ipython-input-55-b35b83303dca>\u001b[0m in \u001b[0;36m<module>\u001b[0;34m()\u001b[0m\n\u001b[1;32m      1\u001b[0m \u001b[0mpar0\u001b[0m \u001b[0;34m=\u001b[0m \u001b[0;34m[\u001b[0m\u001b[0;36m80\u001b[0m\u001b[0;34m,\u001b[0m\u001b[0;36m400\u001b[0m\u001b[0;34m,\u001b[0m\u001b[0;36m0.5\u001b[0m\u001b[0;34m,\u001b[0m\u001b[0;36m1.0\u001b[0m\u001b[0;34m,\u001b[0m\u001b[0;36m1.0\u001b[0m\u001b[0;34m,\u001b[0m\u001b[0;36m3.0\u001b[0m\u001b[0;34m,\u001b[0m\u001b[0;36m0.0210105\u001b[0m\u001b[0;34m]\u001b[0m\u001b[0;34m\u001b[0m\u001b[0m\n\u001b[0;32m----> 2\u001b[0;31m \u001b[0mEprojected\u001b[0m\u001b[0;34m(\u001b[0m\u001b[0mpar0\u001b[0m\u001b[0;34m,\u001b[0m\u001b[0mx\u001b[0m\u001b[0;34m)\u001b[0m\u001b[0;34m\u001b[0m\u001b[0m\n\u001b[0m",
      "\u001b[0;32m<ipython-input-54-afc3a85e38b3>\u001b[0m in \u001b[0;36mEprojected\u001b[0;34m(pars, x)\u001b[0m\n\u001b[1;32m     14\u001b[0m         \u001b[0mres\u001b[0m \u001b[0;34m=\u001b[0m \u001b[0mx\u001b[0m\u001b[0;34m[\u001b[0m\u001b[0mi\u001b[0m\u001b[0;34m]\u001b[0m\u001b[0;34m\u001b[0m\u001b[0m\n\u001b[1;32m     15\u001b[0m         \u001b[0mprint\u001b[0m\u001b[0;34m(\u001b[0m\u001b[0mrc\u001b[0m\u001b[0;34m,\u001b[0m\u001b[0mrs\u001b[0m\u001b[0;34m,\u001b[0m\u001b[0ma\u001b[0m\u001b[0;34m,\u001b[0m\u001b[0mb\u001b[0m\u001b[0;34m,\u001b[0m\u001b[0me\u001b[0m\u001b[0;34m,\u001b[0m\u001b[0mg\u001b[0m\u001b[0;34m,\u001b[0m\u001b[0mn0\u001b[0m\u001b[0;34m,\u001b[0m\u001b[0mres\u001b[0m\u001b[0;34m)\u001b[0m\u001b[0;34m\u001b[0m\u001b[0m\n\u001b[0;32m---> 16\u001b[0;31m         \u001b[0maux\u001b[0m\u001b[0;34m=\u001b[0m\u001b[0mquad\u001b[0m\u001b[0;34m(\u001b[0m\u001b[0mintegral\u001b[0m\u001b[0;34m,\u001b[0m\u001b[0mx\u001b[0m\u001b[0;34m,\u001b[0m\u001b[0;36m1e6\u001b[0m\u001b[0;34m,\u001b[0m\u001b[0margs\u001b[0m\u001b[0;34m=\u001b[0m\u001b[0;34m(\u001b[0m\u001b[0mrc\u001b[0m\u001b[0;34m,\u001b[0m\u001b[0mrs\u001b[0m\u001b[0;34m,\u001b[0m\u001b[0ma\u001b[0m\u001b[0;34m,\u001b[0m\u001b[0mb\u001b[0m\u001b[0;34m,\u001b[0m\u001b[0me\u001b[0m\u001b[0;34m,\u001b[0m\u001b[0mg\u001b[0m\u001b[0;34m,\u001b[0m\u001b[0mn0\u001b[0m\u001b[0;34m,\u001b[0m\u001b[0mres\u001b[0m\u001b[0;34m)\u001b[0m\u001b[0;34m)\u001b[0m\u001b[0;34m\u001b[0m\u001b[0m\n\u001b[0m\u001b[1;32m     17\u001b[0m         \u001b[0mout\u001b[0m\u001b[0;34m.\u001b[0m\u001b[0mappend\u001b[0m\u001b[0;34m(\u001b[0m\u001b[0maux\u001b[0m\u001b[0;34m[\u001b[0m\u001b[0;36m0\u001b[0m\u001b[0;34m]\u001b[0m\u001b[0;34m)\u001b[0m\u001b[0;34m\u001b[0m\u001b[0m\n\u001b[1;32m     18\u001b[0m     \u001b[0;32mreturn\u001b[0m \u001b[0mnp\u001b[0m\u001b[0;34m.\u001b[0m\u001b[0marray\u001b[0m\u001b[0;34m(\u001b[0m\u001b[0mout\u001b[0m\u001b[0;34m)\u001b[0m\u001b[0;34m\u001b[0m\u001b[0m\n",
      "\u001b[0;32m~/anaconda3/lib/python3.6/site-packages/scipy/integrate/quadpack.py\u001b[0m in \u001b[0;36mquad\u001b[0;34m(func, a, b, args, full_output, epsabs, epsrel, limit, points, weight, wvar, wopts, maxp1, limlst)\u001b[0m\n\u001b[1;32m    321\u001b[0m     \u001b[0;32mif\u001b[0m \u001b[0;34m(\u001b[0m\u001b[0mweight\u001b[0m \u001b[0;32mis\u001b[0m \u001b[0;32mNone\u001b[0m\u001b[0;34m)\u001b[0m\u001b[0;34m:\u001b[0m\u001b[0;34m\u001b[0m\u001b[0m\n\u001b[1;32m    322\u001b[0m         retval = _quad(func, a, b, args, full_output, epsabs, epsrel, limit,\n\u001b[0;32m--> 323\u001b[0;31m                        points)\n\u001b[0m\u001b[1;32m    324\u001b[0m     \u001b[0;32melse\u001b[0m\u001b[0;34m:\u001b[0m\u001b[0;34m\u001b[0m\u001b[0m\n\u001b[1;32m    325\u001b[0m         retval = _quad_weight(func, a, b, args, full_output, epsabs, epsrel,\n",
      "\u001b[0;32m~/anaconda3/lib/python3.6/site-packages/scipy/integrate/quadpack.py\u001b[0m in \u001b[0;36m_quad\u001b[0;34m(func, a, b, args, full_output, epsabs, epsrel, limit, points)\u001b[0m\n\u001b[1;32m    370\u001b[0m \u001b[0;32mdef\u001b[0m \u001b[0m_quad\u001b[0m\u001b[0;34m(\u001b[0m\u001b[0mfunc\u001b[0m\u001b[0;34m,\u001b[0m\u001b[0ma\u001b[0m\u001b[0;34m,\u001b[0m\u001b[0mb\u001b[0m\u001b[0;34m,\u001b[0m\u001b[0margs\u001b[0m\u001b[0;34m,\u001b[0m\u001b[0mfull_output\u001b[0m\u001b[0;34m,\u001b[0m\u001b[0mepsabs\u001b[0m\u001b[0;34m,\u001b[0m\u001b[0mepsrel\u001b[0m\u001b[0;34m,\u001b[0m\u001b[0mlimit\u001b[0m\u001b[0;34m,\u001b[0m\u001b[0mpoints\u001b[0m\u001b[0;34m)\u001b[0m\u001b[0;34m:\u001b[0m\u001b[0;34m\u001b[0m\u001b[0m\n\u001b[1;32m    371\u001b[0m     \u001b[0minfbounds\u001b[0m \u001b[0;34m=\u001b[0m \u001b[0;36m0\u001b[0m\u001b[0;34m\u001b[0m\u001b[0m\n\u001b[0;32m--> 372\u001b[0;31m     \u001b[0;32mif\u001b[0m \u001b[0;34m(\u001b[0m\u001b[0mb\u001b[0m \u001b[0;34m!=\u001b[0m \u001b[0mInf\u001b[0m \u001b[0;32mand\u001b[0m \u001b[0ma\u001b[0m \u001b[0;34m!=\u001b[0m \u001b[0;34m-\u001b[0m\u001b[0mInf\u001b[0m\u001b[0;34m)\u001b[0m\u001b[0;34m:\u001b[0m\u001b[0;34m\u001b[0m\u001b[0m\n\u001b[0m\u001b[1;32m    373\u001b[0m         \u001b[0;32mpass\u001b[0m   \u001b[0;31m# standard integration\u001b[0m\u001b[0;34m\u001b[0m\u001b[0m\n\u001b[1;32m    374\u001b[0m     \u001b[0;32melif\u001b[0m \u001b[0;34m(\u001b[0m\u001b[0mb\u001b[0m \u001b[0;34m==\u001b[0m \u001b[0mInf\u001b[0m \u001b[0;32mand\u001b[0m \u001b[0ma\u001b[0m \u001b[0;34m!=\u001b[0m \u001b[0;34m-\u001b[0m\u001b[0mInf\u001b[0m\u001b[0;34m)\u001b[0m\u001b[0;34m:\u001b[0m\u001b[0;34m\u001b[0m\u001b[0m\n",
      "\u001b[0;31mValueError\u001b[0m: The truth value of an array with more than one element is ambiguous. Use a.any() or a.all()"
     ]
    }
   ],
   "source": [
    "par0 = [80,400,0.5,1.0,1.0,3.0,0.0210105]\n",
    "Eprojected(par0,x)"
   ]
  },
  {
   "cell_type": "code",
   "execution_count": null,
   "metadata": {
    "collapsed": true
   },
   "outputs": [],
   "source": [
    "# del(rc,rs,a,b,e,g,n0)"
   ]
  },
  {
   "cell_type": "code",
   "execution_count": null,
   "metadata": {
    "collapsed": true
   },
   "outputs": [],
   "source": [
    "# Maximum likelihood estimation\n",
    "# Chi-square function\n",
    "def chi2(theta,x,y,yerr):\n",
    "    rc,rs,a,b,g,n0 = theta\n",
    "    model = SBV(rc,rs,a,b,g,n0,x)\n",
    "    inv_sigma2 = 1.0/(yerr**2)\n",
    "    return np.sum((model-y)**2*inv_sigma2)\n",
    "\n",
    "# Log likelihood function\n",
    "def lnlike(theta,x,y,yerr):\n",
    "    return -0.5*(chi2(theta,x,y,yerr))"
   ]
  },
  {
   "cell_type": "code",
   "execution_count": null,
   "metadata": {
    "collapsed": true
   },
   "outputs": [],
   "source": [
    "def lnprior(theta):\n",
    "    rc,rs,a,b,e,n0 = theta\n",
    "    if 0.0 < a and 0.0 < b and 0.0 < e < 5.0 and 0.0 < rs and 0.0 < rc and 0.0 < n0:\n",
    "        return 0.0\n",
    "    return -np.inf\n",
    "\n",
    "def lnprob(theta, x, y, yerr):\n",
    "    lp = lnprior(theta)\n",
    "    if not np.isfinite(lp):\n",
    "        return -np.inf\n",
    "    return lp + lnlike(theta, x, y, yerr)"
   ]
  },
  {
   "cell_type": "code",
   "execution_count": 31,
   "metadata": {
    "collapsed": true
   },
   "outputs": [],
   "source": [
    "from astropy.io import fits\n",
    "import astropy.io.ascii as at\n",
    "# fits_image_filename = fits.util.get_testdata_filepath('00524_rprofile.fits ')\n",
    "\n",
    "conv = at.read(\"cnt_rate\")\n",
    "hdul = fits.open(\"00524_rprofile.fits\")\n",
    "\n",
    "data = hdul[1].data\n",
    "cols = hdul[1].columns\n",
    "Rbin = (data['R'][:,0]+data['R'][:,1])/2\n",
    "SBC = data['SUR_BRI']*1e8\n",
    "SBC_ERR = data['SUR_BRI_ERR']*1e8\n",
    "NC = data['NET_COUNTS']"
   ]
  },
  {
   "cell_type": "code",
   "execution_count": 32,
   "metadata": {
    "collapsed": true
   },
   "outputs": [],
   "source": [
    "x, y, yerr = Rbin, SBC, SBC_ERR\n",
    "par0 = 80,400,0.5,1.0,1.0,3,0.0210105\n",
    "par0a = np.array(par0)\n",
    "ndim, nwalkers = 7, 200\n",
    "pos = [par0+1e-1*par0a*np.random.randn(ndim) for i in range(nwalkers)]"
   ]
  },
  {
   "cell_type": "code",
   "execution_count": null,
   "metadata": {
    "collapsed": true
   },
   "outputs": [],
   "source": [
    "Eprojected([par0],100)"
   ]
  },
  {
   "cell_type": "code",
   "execution_count": null,
   "metadata": {
    "collapsed": true
   },
   "outputs": [],
   "source": [
    "# implementar no sherpa\n",
    "import scipy.optimize as op\n",
    "nll = lambda *args: -lnprob(*args)\n",
    "result = op.minimize(nll, [par0], args=(x, y, yerr))\n",
    "rc_l,rs_l,a_l,b_l,e_l,n0_l = result[\"x\"]"
   ]
  },
  {
   "cell_type": "code",
   "execution_count": null,
   "metadata": {
    "collapsed": true
   },
   "outputs": [],
   "source": [
    "print(rc_l,rs_l,a_l,b_l,e_l,n0_l)"
   ]
  },
  {
   "cell_type": "code",
   "execution_count": null,
   "metadata": {
    "collapsed": true
   },
   "outputs": [],
   "source": [
    "import time\n",
    "t = time.time()\n",
    "\n",
    "sampler = emcee.EnsembleSampler(nwalkers, ndim, lnlike, args=(x,y,yerr))\n",
    "sampler.run_mcmc(pos, 200)\n",
    "\n",
    "print(str(time.time()-t))"
   ]
  },
  {
   "cell_type": "code",
   "execution_count": null,
   "metadata": {
    "collapsed": true
   },
   "outputs": [],
   "source": [
    "import corner\n",
    "samples = sampler.chain[:, 50:, :].reshape((-1, ndim))\n",
    "fig = corner.corner(samples)"
   ]
  },
  {
   "cell_type": "code",
   "execution_count": null,
   "metadata": {
    "collapsed": true
   },
   "outputs": [],
   "source": [
    "hdr = hdul[0].header\n",
    "# list(hdr.keys())"
   ]
  },
  {
   "cell_type": "code",
   "execution_count": null,
   "metadata": {
    "collapsed": true
   },
   "outputs": [],
   "source": [
    "import matplotlib.pyplot as plt\n",
    "\n",
    "plt.scatter(Rbin,SBC)\n",
    "plt.xscale(\"log\")\n",
    "plt.yscale(\"log\")\n",
    "plt.ylim(1e-5,0.12)\n",
    "plt.show()"
   ]
  },
  {
   "cell_type": "code",
   "execution_count": null,
   "metadata": {
    "collapsed": true
   },
   "outputs": [],
   "source": [
    "plt.scatter(Rbin,NC)\n",
    "plt.xscale(\"log\")\n",
    "plt.yscale(\"log\")\n",
    "plt.show()"
   ]
  },
  {
   "cell_type": "markdown",
   "metadata": {},
   "source": [
    "#### 1 - Preparando a imagem"
   ]
  },
  {
   "cell_type": "code",
   "execution_count": null,
   "metadata": {
    "collapsed": true
   },
   "outputs": [],
   "source": [
    "import astropy.io.ascii as at\n",
    "# from ciao_contrib.runtool import *\n",
    "\n",
    "#--- Carregando tabelas\n",
    "clt = at.read(\"cluster.txt\")\n",
    "obsid=\"00\"+str(clt[\"obsid\"][0])\n",
    "pixscale=clt[\"pixscale\"][0]\n",
    "\n",
    "# arquivo de eventos filtrado por flares\n",
    "evtg=obsid+\"_gti_evt2.fits\"  \n",
    "evtge=\"excl_gti_evt2.fits\"\n",
    "\n",
    "# Excluindo fontes pontuais\n",
    "# dmcopy(evtg+\"[exclude sky=region(ps.reg)] \",evtge) \n",
    "\n",
    "# Definindo intervalo de energia\n",
    "# dmcopy(evtg+\"[energy=700:2000]\",\"0.7-2.0\"+evtge) "
   ]
  },
  {
   "cell_type": "markdown",
   "metadata": {},
   "source": [
    "#### 2 - Definindo Anéis Concêntricos"
   ]
  },
  {
   "cell_type": "code",
   "execution_count": null,
   "metadata": {
    "collapsed": true
   },
   "outputs": [],
   "source": [
    "import numpy as np\n",
    "\n",
    "t500=360\n",
    "ri, rfim = 0.1*t500, 2*t500, \n",
    "naneis = int( np.log((rfim/ri) -1)/np.log(1.05))\n",
    "\n",
    "rbin = [50*(1.05)**(i+1) for i in range(naneis)]\n",
    "\n",
    "saida = \"aneis.reg\"\n",
    "with open(saida,\"w\") as file:\n",
    "    for i in range(naneis-1):\n",
    "        file.write(\"annulus(\"+str(clt[\"xcen\"][0])+\",\"+str(clt[\"ycen\"][0])+\",\"+str(rbin[i])+\",\"+str(rbin[i+1])+\") \\n\")\n",
    "\n",
    "rbkg=rfim+50\n",
    "with open(\"bkg_\"+saida,\"w\") as file:\n",
    "        file.write(\"annulus(\"+str(clt[\"xcen\"][0])+\",\"+str(clt[\"ycen\"][0])+\",\"+str(rfim)+\",\"+str(rbkg)+\")\\n\")\n"
   ]
  },
  {
   "cell_type": "code",
   "execution_count": null,
   "metadata": {
    "collapsed": true
   },
   "outputs": [],
   "source": [
    "dmextract.punlearn()\n",
    "dmextract.infile = evtge+\"[bin sky=@\"+saida+\"]\"\n",
    "dmextract.outfile = obsid+\"_rprofile.fits\"\n",
    "dmextract.bkg = evtge+\"[bin sky=@bkg_\"+saida+\"]\"\n",
    "dmextract.opt = \"generic\"\n",
    "dmextract()\n",
    "\n",
    "dmtcalc.punlearn()\n",
    "dmtcalc.infile= obsid+\"_rprofile.fits\"\n",
    "dmtcalc.outfile=obsid+\"_rprofile_rmid.fits\"\n",
    "dmtcalc.expression=\"rmid=0.5*(R[0]+R[1])\"\n",
    "dmtcalc()\n"
   ]
  },
  {
   "cell_type": "code",
   "execution_count": null,
   "metadata": {
    "collapsed": true
   },
   "outputs": [],
   "source": []
  },
  {
   "cell_type": "code",
   "execution_count": null,
   "metadata": {
    "collapsed": true
   },
   "outputs": [],
   "source": [
    "para[0]"
   ]
  },
  {
   "cell_type": "code",
   "execution_count": 26,
   "metadata": {
    "collapsed": true
   },
   "outputs": [],
   "source": [
    "# load_data(1,\"...\")\n",
    "# frzpar=5*[False]+[True,False]\n",
    "# load_user_model(Eprojected, \"mybeta\")\n",
    "# add_user_pars(\"mybeta\", [\"rc\",\"rs\",\"alpha\",\"beta\",\"epsilon\",\"gamma\",\"n0\"], par0,parfrozen=frzpar)\n",
    "# plot_data()"
   ]
  },
  {
   "cell_type": "code",
   "execution_count": null,
   "metadata": {
    "collapsed": true
   },
   "outputs": [],
   "source": []
  }
 ],
 "metadata": {
  "kernelspec": {
   "display_name": "Python 3",
   "language": "python",
   "name": "python3"
  },
  "language_info": {
   "codemirror_mode": {
    "name": "ipython",
    "version": 3
   },
   "file_extension": ".py",
   "mimetype": "text/x-python",
   "name": "python",
   "nbconvert_exporter": "python",
   "pygments_lexer": "ipython3",
   "version": "3.6.3"
  }
 },
 "nbformat": 4,
 "nbformat_minor": 2
}
